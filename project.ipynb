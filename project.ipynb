{
 "cells": [
  {
   "cell_type": "markdown",
   "id": "124e5672",
   "metadata": {},
   "source": [
    "# Custom Chatbot Project"
   ]
  },
  {
   "cell_type": "markdown",
   "id": "2a4a94b3",
   "metadata": {},
   "source": [
    "TODO: In this cell, write an explanation of which dataset you have chosen and why it is appropriate for this task\n",
    "\n",
    "## I have chosen the local CSV files as my dataset for these reasons: \n",
    "\n",
    "1. The information seams quite clean and tidy, hence I can retrieve the important data I need without much work for cleaning up.\n",
    "2. The dataset files are very samll which makes they can be shared easily (e.g. use for another project).\n",
    "3. Owning these dataset file means that we can amend/edit them as needed (e.g. we can add new records or correct some info within these files)"
   ]
  },
  {
   "cell_type": "markdown",
   "id": "a63d4c5f",
   "metadata": {},
   "source": [
    "## Data Wrangling\n",
    "\n",
    "TODO: In the cells below, load your chosen dataset into a `pandas` dataframe with a column named `\"text\"`. This column should contain all of your text data, separated into at least 20 rows."
   ]
  },
  {
   "cell_type": "code",
   "execution_count": 26,
   "id": "4478e787-9898-442e-9dbf-bcbdb7dc780a",
   "metadata": {},
   "outputs": [],
   "source": [
    "from dotenv import load_dotenv\n",
    "import os\n",
    "\n",
    "OPENAI_API_KEY = os.getenv(\"OPENAI_API_KEY\")\n"
   ]
  },
  {
   "cell_type": "code",
   "execution_count": 27,
   "id": "c69b83a1",
   "metadata": {},
   "outputs": [
    {
     "data": {
      "text/html": [
       "<div>\n",
       "<style scoped>\n",
       "    .dataframe tbody tr th:only-of-type {\n",
       "        vertical-align: middle;\n",
       "    }\n",
       "\n",
       "    .dataframe tbody tr th {\n",
       "        vertical-align: top;\n",
       "    }\n",
       "\n",
       "    .dataframe thead th {\n",
       "        text-align: right;\n",
       "    }\n",
       "</style>\n",
       "<table border=\"1\" class=\"dataframe\">\n",
       "  <thead>\n",
       "    <tr style=\"text-align: right;\">\n",
       "      <th></th>\n",
       "      <th>Name</th>\n",
       "      <th>Description</th>\n",
       "      <th>Medium</th>\n",
       "      <th>Setting</th>\n",
       "    </tr>\n",
       "  </thead>\n",
       "  <tbody>\n",
       "    <tr>\n",
       "      <th>0</th>\n",
       "      <td>Emily</td>\n",
       "      <td>A young woman in her early 20s, Emily is an as...</td>\n",
       "      <td>Play</td>\n",
       "      <td>England</td>\n",
       "    </tr>\n",
       "    <tr>\n",
       "      <th>1</th>\n",
       "      <td>Jack</td>\n",
       "      <td>A middle-aged man in his 40s, Jack is a succes...</td>\n",
       "      <td>Play</td>\n",
       "      <td>England</td>\n",
       "    </tr>\n",
       "    <tr>\n",
       "      <th>2</th>\n",
       "      <td>Alice</td>\n",
       "      <td>A woman in her late 30s, Alice is a warm and n...</td>\n",
       "      <td>Play</td>\n",
       "      <td>England</td>\n",
       "    </tr>\n",
       "    <tr>\n",
       "      <th>3</th>\n",
       "      <td>Tom</td>\n",
       "      <td>A man in his 50s, Tom is a retired soldier and...</td>\n",
       "      <td>Play</td>\n",
       "      <td>England</td>\n",
       "    </tr>\n",
       "    <tr>\n",
       "      <th>4</th>\n",
       "      <td>Sarah</td>\n",
       "      <td>A woman in her mid-20s, Sarah is a free-spirit...</td>\n",
       "      <td>Play</td>\n",
       "      <td>England</td>\n",
       "    </tr>\n",
       "  </tbody>\n",
       "</table>\n",
       "</div>"
      ],
      "text/plain": [
       "    Name                                        Description Medium  Setting\n",
       "0  Emily  A young woman in her early 20s, Emily is an as...   Play  England\n",
       "1   Jack  A middle-aged man in his 40s, Jack is a succes...   Play  England\n",
       "2  Alice  A woman in her late 30s, Alice is a warm and n...   Play  England\n",
       "3    Tom  A man in his 50s, Tom is a retired soldier and...   Play  England\n",
       "4  Sarah  A woman in her mid-20s, Sarah is a free-spirit...   Play  England"
      ]
     },
     "execution_count": 27,
     "metadata": {},
     "output_type": "execute_result"
    }
   ],
   "source": [
    "import pandas as pd \n",
    "\n",
    "# load the original csv file \n",
    "CSV_FILE_NAME = \"character_descriptions\"\n",
    "CSV_FILE_EXE = \".csv\"\n",
    "\n",
    "origin_df = pd.read_csv(CSV_FILE_NAME + CSV_FILE_EXE) \n",
    "origin_df.head()\n"
   ]
  },
  {
   "cell_type": "code",
   "execution_count": 28,
   "id": "0a595980",
   "metadata": {},
   "outputs": [
    {
     "data": {
      "text/html": [
       "<div>\n",
       "<style scoped>\n",
       "    .dataframe tbody tr th:only-of-type {\n",
       "        vertical-align: middle;\n",
       "    }\n",
       "\n",
       "    .dataframe tbody tr th {\n",
       "        vertical-align: top;\n",
       "    }\n",
       "\n",
       "    .dataframe thead th {\n",
       "        text-align: right;\n",
       "    }\n",
       "</style>\n",
       "<table border=\"1\" class=\"dataframe\">\n",
       "  <thead>\n",
       "    <tr style=\"text-align: right;\">\n",
       "      <th></th>\n",
       "      <th>text</th>\n",
       "    </tr>\n",
       "  </thead>\n",
       "  <tbody>\n",
       "    <tr>\n",
       "      <th>0</th>\n",
       "      <td>A young woman in her early 20s, Emily is an as...</td>\n",
       "    </tr>\n",
       "    <tr>\n",
       "      <th>1</th>\n",
       "      <td>A middle-aged man in his 40s, Jack is a succes...</td>\n",
       "    </tr>\n",
       "    <tr>\n",
       "      <th>2</th>\n",
       "      <td>A woman in her late 30s, Alice is a warm and n...</td>\n",
       "    </tr>\n",
       "    <tr>\n",
       "      <th>3</th>\n",
       "      <td>A man in his 50s, Tom is a retired soldier and...</td>\n",
       "    </tr>\n",
       "    <tr>\n",
       "      <th>4</th>\n",
       "      <td>A woman in her mid-20s, Sarah is a free-spirit...</td>\n",
       "    </tr>\n",
       "  </tbody>\n",
       "</table>\n",
       "</div>"
      ],
      "text/plain": [
       "                                                text\n",
       "0  A young woman in her early 20s, Emily is an as...\n",
       "1  A middle-aged man in his 40s, Jack is a succes...\n",
       "2  A woman in her late 30s, Alice is a warm and n...\n",
       "3  A man in his 50s, Tom is a retired soldier and...\n",
       "4  A woman in her mid-20s, Sarah is a free-spirit..."
      ]
     },
     "execution_count": 28,
     "metadata": {},
     "output_type": "execute_result"
    }
   ],
   "source": [
    "from pandas import DataFrame \n",
    "\n",
    "# copy all the descriptions from the original csv file into the 'text' column\n",
    "my_df = DataFrame()\n",
    "my_df[\"text\"] = origin_df[\"Description\"]\n",
    "my_df.head()\n"
   ]
  },
  {
   "cell_type": "code",
   "execution_count": null,
   "id": "acb3a9fd",
   "metadata": {},
   "outputs": [],
   "source": []
  },
  {
   "cell_type": "markdown",
   "id": "ae769871",
   "metadata": {},
   "source": [
    "## Custom Query Completion\n",
    "\n",
    "TODO: In the cells below, compose a custom query using your chosen dataset and retrieve results from an OpenAI `Completion` model. You may copy and paste any useful code from the course materials."
   ]
  },
  {
   "cell_type": "code",
   "execution_count": 29,
   "id": "582f0656",
   "metadata": {},
   "outputs": [],
   "source": [
    "# OpenAI setups\n",
    "\n",
    "from openai import OpenAI\n",
    "import openai\n",
    "\n",
    "openai.api_key = OPENAI_API_KEY\n",
    "ai_client = OpenAI()\n"
   ]
  },
  {
   "cell_type": "code",
   "execution_count": 31,
   "id": "8b6e1f75",
   "metadata": {},
   "outputs": [
    {
     "name": "stdout",
     "output_type": "stream",
     "text": [
      "Embeddings are ready.\n"
     ]
    }
   ],
   "source": [
    "\n",
    "# Create embeddings record for each text row \n",
    "\n",
    "EMBEDDING_MODEL_NAME = \"text-embedding-ada-002\"\n",
    "\n",
    "def get_embedding(str, model=EMBEDDING_MODEL_NAME):\n",
    "   text = text.replace(\"\\n\", \" \")\n",
    "   return ai_client.embeddings.create(input = [text], model=model).data[0].embedding\n",
    "\n",
    "\n",
    "my_df[\"embeddings\"] = my_df.text.apply(lambda x: get_embedding(x))\n",
    "\n",
    "print(\"Embeddings are ready.\")"
   ]
  },
  {
   "cell_type": "code",
   "execution_count": 33,
   "id": "13f2dcd7",
   "metadata": {},
   "outputs": [],
   "source": [
    "# Save the embeddings records to a seperate CSV file\n",
    "\n",
    "EMBEDDINGS_FILE_NAME = CSV_FILE_NAME + \"_embeddings\" + CSV_FILE_EXE\n",
    "my_df.to_csv(EMBEDDINGS_FILE_NAME)\n"
   ]
  },
  {
   "cell_type": "code",
   "execution_count": 41,
   "id": "c403f543",
   "metadata": {},
   "outputs": [],
   "source": [
    "import tiktoken\n",
    "from scipy.spatial.distance import cosine\n",
    "\n",
    "# define a tokenizer \n",
    "tokenizer = tiktoken.get_encoding(\"cl100k_base\")\n",
    "\n",
    "MAX_TOKEN_COUNT = 1024\n",
    "\n",
    "\n",
    "# Return a new DataFrame with a new 'distances' column based on the question\n",
    "def make_distances_df_with(question: str, \n",
    "                           df: DataFrame):\n",
    "    \n",
    "    question_embeddings = get_embedding(question)\n",
    "\n",
    "    new_df = df.copy()\n",
    "    new_df[\"distances\"] = new_df[\"embeddings\"].apply(lambda x: cosine(question_embeddings, x))\n",
    "    new_df.sort_values(by=\"distances\", ascending=True, inplace=True)\n",
    "    return new_df\n",
    "    \n",
    "\n",
    "# Create a custom prompt based on the provided question and a dataframe: df, \n",
    "# the df should have a 'distances' column, which records the cosine distance for each row's text against the question\n",
    "def create_custom_prompt(question: str, \n",
    "                         df: DataFrame, \n",
    "                         max_token_count: int = MAX_TOKEN_COUNT):\n",
    "    \n",
    "    # Count the number of tokens in the prompt template and question\n",
    "    prompt_template = \"\"\"\n",
    "Answer the question based on the context below, and if the question\n",
    "can't be answered based on the context, say \"I don't know\"\n",
    "\n",
    "Context: \n",
    "\n",
    "{}\n",
    "\n",
    "---\n",
    "\n",
    "Question: {}\n",
    "Answer:\"\"\"\n",
    "\n",
    "    current_token_count = len(tokenizer.encode(prompt_template)) + \\\n",
    "                            len(tokenizer.encode(question))\n",
    "\n",
    "    context = []\n",
    "    for text in df[\"text\"].values:\n",
    "\n",
    "        # Increase the counter based on the number of tokens in this row\n",
    "        text_token_count = len(tokenizer.encode(text))\n",
    "        current_token_count += text_token_count\n",
    "\n",
    "        # Add the row of text to the list if we haven't exceeded the max\n",
    "        if current_token_count <= max_token_count:\n",
    "            context.append(text)\n",
    "        else:\n",
    "            break\n",
    "\n",
    "    return prompt_template.format(\"\\n\\n###\\n\\n\".join(context), question)\n",
    "\n",
    "    \n",
    "# Query openAI with a prompt and get the response\n",
    "def query_openAI_with(prompt: str): \n",
    "    response = ai_client.chat.completions.create(\n",
    "      model=\"gpt-3.5-turbo\",\n",
    "      messages=[\n",
    "        {\"role\": \"system\", \"content\": \"You are a helpful assistant who is familiar with all characters from movies, TV shows, Play, Limited Series, Musical, Reality Show, Opera & Sitcom.\"},\n",
    "        {\"role\": \"user\", \"content\": prompt}\n",
    "      ]\n",
    "    )\n",
    "    return response.choices[0].message.content\n",
    "    "
   ]
  },
  {
   "cell_type": "code",
   "execution_count": null,
   "id": "74280b92",
   "metadata": {},
   "outputs": [],
   "source": []
  },
  {
   "cell_type": "markdown",
   "id": "1783f146",
   "metadata": {},
   "source": [
    "## Custom Performance Demonstration\n",
    "\n",
    "TODO: In the cells below, demonstrate the performance of your custom query using at least 2 questions. For each question, show the answer from a basic `Completion` model query as well as the answer from your custom query."
   ]
  },
  {
   "cell_type": "markdown",
   "id": "4f11fdc0",
   "metadata": {},
   "source": [
    "### Question 1"
   ]
  },
  {
   "cell_type": "code",
   "execution_count": 54,
   "id": "4901c850",
   "metadata": {},
   "outputs": [
    {
     "name": "stdout",
     "output_type": "stream",
     "text": [
      "Answering before providing more context:\n",
      "That character is Buck Vu from the TV show \"Station 19.\" He is a former soldier who served in Afghanistan and is Ava's godson in the series.\n"
     ]
    }
   ],
   "source": [
    "\n",
    "# Answer before providing more context\n",
    "\n",
    "origin_question_1 = \"Which character was a former soldier served in Afghanistan before and is Ava's Godson?\"\n",
    "\n",
    "print(\"Answering before providing more context:\")\n",
    "print(query_openAI_with(prompt=origin_question_1))\n"
   ]
  },
  {
   "cell_type": "code",
   "execution_count": 55,
   "id": "bd7a093b",
   "metadata": {},
   "outputs": [
    {
     "name": "stdout",
     "output_type": "stream",
     "text": [
      "Answering after providing more context:\n",
      "Max is the character who was a former soldier served in Afghanistan before and is Ava's godson.\n"
     ]
    }
   ],
   "source": [
    "\n",
    "# Answer after providing more context \n",
    "\n",
    "distance_df = make_distances_df_with(question=origin_question_1, df=my_df)\n",
    "\n",
    "prompt_question = create_custom_prompt(question=origin_question_1, \n",
    "                                       df=distance_df)\n",
    "\n",
    "print(\"Answering after providing more context:\")\n",
    "print(query_openAI_with(prompt=prompt_question))\n"
   ]
  },
  {
   "cell_type": "markdown",
   "id": "6e86e37c",
   "metadata": {},
   "source": [
    "### Question 2"
   ]
  },
  {
   "cell_type": "code",
   "execution_count": 64,
   "id": "6f646989",
   "metadata": {},
   "outputs": [
    {
     "name": "stdout",
     "output_type": "stream",
     "text": [
      "Answering before providing more context: \n",
      "The character you're looking for is Lorelai Gilmore from the TV show \"Gilmore Girls.\" She is a single mother and the manager of the Independence Inn in the fictional town of Stars Hollow, Connecticut. Lorelai is known for her wit, charm, and close relationship with her daughter, Rory.\n"
     ]
    }
   ],
   "source": [
    "\n",
    "# Answer before providing more context\n",
    "\n",
    "origin_question_2 = \"Which character is a single mother running business in Texas town?\"\n",
    "print(\"Answering before providing more context: \")\n",
    "print(query_openAI_with(prompt=origin_question_2))"
   ]
  },
  {
   "cell_type": "code",
   "execution_count": 66,
   "id": "11c07a54",
   "metadata": {},
   "outputs": [
    {
     "name": "stdout",
     "output_type": "stream",
     "text": [
      "Answering after providing more context:\n",
      "Maria, the middle-aged Latina woman in her 40s, is the single mother running a small family-run diner in a small Texas town.\n"
     ]
    }
   ],
   "source": [
    "# Answer after providing more context \n",
    "\n",
    "distance_df_2 = make_distances_df_with(question=origin_question_2, df=my_df)\n",
    "\n",
    "prompt_question_2 = create_custom_prompt(question=origin_question_2, \n",
    "                                         df=distance_df_2)\n",
    "\n",
    "print(\"Answering after providing more context:\")\n",
    "print(query_openAI_with(prompt=prompt_question_2))"
   ]
  },
  {
   "cell_type": "code",
   "execution_count": null,
   "id": "281bba43-9b43-48ee-83a6-7a55dfd47a3b",
   "metadata": {},
   "outputs": [],
   "source": []
  }
 ],
 "metadata": {
  "kernelspec": {
   "display_name": "Python 3 (ipykernel)",
   "language": "python",
   "name": "python3"
  },
  "language_info": {
   "codemirror_mode": {
    "name": "ipython",
    "version": 3
   },
   "file_extension": ".py",
   "mimetype": "text/x-python",
   "name": "python",
   "nbconvert_exporter": "python",
   "pygments_lexer": "ipython3",
   "version": "3.9.6"
  }
 },
 "nbformat": 4,
 "nbformat_minor": 5
}
